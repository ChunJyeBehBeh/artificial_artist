{
 "cells": [
  {
   "cell_type": "code",
   "execution_count": 1,
   "metadata": {},
   "outputs": [
    {
     "ename": "AttributeError",
     "evalue": "'list' object has no attribute 'sample_time'",
     "output_type": "error",
     "traceback": [
      "\u001b[1;31m---------------------------------------------------------------------------\u001b[0m",
      "\u001b[1;31mAttributeError\u001b[0m                            Traceback (most recent call last)",
      "\u001b[1;32m<ipython-input-1-4e92ba468d99>\u001b[0m in \u001b[0;36m<module>\u001b[1;34m\u001b[0m\n\u001b[0;32m     36\u001b[0m \u001b[1;31m# Create PID\u001b[0m\u001b[1;33m\u001b[0m\u001b[1;33m\u001b[0m\u001b[1;33m\u001b[0m\u001b[0m\n\u001b[0;32m     37\u001b[0m \u001b[0mpid\u001b[0m \u001b[1;33m=\u001b[0m \u001b[1;33m[\u001b[0m\u001b[0mPID\u001b[0m\u001b[1;33m(\u001b[0m\u001b[1;33m)\u001b[0m \u001b[1;32mfor\u001b[0m \u001b[0mx\u001b[0m \u001b[1;32min\u001b[0m \u001b[0mrange\u001b[0m\u001b[1;33m(\u001b[0m\u001b[1;36m2\u001b[0m\u001b[1;33m)\u001b[0m\u001b[1;33m]\u001b[0m\u001b[1;33m\u001b[0m\u001b[1;33m\u001b[0m\u001b[0m\n\u001b[1;32m---> 38\u001b[1;33m \u001b[0mpid\u001b[0m\u001b[1;33m.\u001b[0m\u001b[0msample_time\u001b[0m \u001b[1;33m=\u001b[0m \u001b[0mSAMPLE_TIME\u001b[0m\u001b[1;33m\u001b[0m\u001b[1;33m\u001b[0m\u001b[0m\n\u001b[0m\u001b[0;32m     39\u001b[0m \u001b[0mpid\u001b[0m\u001b[1;33m.\u001b[0m\u001b[0mtunings\u001b[0m \u001b[1;33m=\u001b[0m \u001b[1;33m(\u001b[0m\u001b[0mKP\u001b[0m\u001b[1;33m,\u001b[0m \u001b[0mKI\u001b[0m\u001b[1;33m,\u001b[0m \u001b[0mKD\u001b[0m\u001b[1;33m)\u001b[0m\u001b[1;33m\u001b[0m\u001b[1;33m\u001b[0m\u001b[0m\n\u001b[0;32m     40\u001b[0m \u001b[0mpid\u001b[0m\u001b[1;33m.\u001b[0m\u001b[0moutput_limit\u001b[0m \u001b[1;33m=\u001b[0m \u001b[1;33m(\u001b[0m\u001b[0mLOWER_LIMIT\u001b[0m\u001b[1;33m,\u001b[0m \u001b[0mUPPER_LIMIT\u001b[0m\u001b[1;33m)\u001b[0m\u001b[1;33m\u001b[0m\u001b[1;33m\u001b[0m\u001b[0m\n",
      "\u001b[1;31mAttributeError\u001b[0m: 'list' object has no attribute 'sample_time'"
     ]
    }
   ],
   "source": [
    "from dynamixel_sdk import *\n",
    "from simple_pid import PID\n",
    "\n",
    "# Control table address\n",
    "ADDR_MX_TORQUE_ENABLE      = 24               # Control table address is different in Dynamixel model\n",
    "ADDR_MX_GOAL_POSITION      = 30\n",
    "ADDR_MX_PRESENT_POSITION   = 36\n",
    "ADDR_MX_MOVING_SPEED       = 32\n",
    "ADDR_MX_PRESENT_SPEED      = 38\n",
    "\n",
    "# Protocol version\n",
    "PROTOCOL_VERSION            = 1.0               # See which protocol version is used in the Dynamixel\n",
    "\n",
    "# Default setting\n",
    "DXL_ID_1                      = 1                 # Dynamixel ID : 1\n",
    "DXL_ID_2                      = 6                 \n",
    "DXL_ID_3                      = 2                 \n",
    "DXL_ID_4                      = 3                 \n",
    "DXL_ID_5                      = 4                 \n",
    "BAUDRATE                      = 1000000             # Dynamixel default baudrate : 57600\n",
    "DEVICE_PORT                   = \"COM6\"          # Check which port is being used on your controller\n",
    "\n",
    "TORQUE_ENABLE               = 1                 # Value for enabling the torque\n",
    "TORQUE_DISABLE              = 0                 # Value for disabling the torque\n",
    "MAX_SPEED                   = 20\n",
    "\n",
    "# PID Parameters\n",
    "KP = 0\n",
    "KI = 0.1\n",
    "KD = 0\n",
    "SAMPLE_TIME = 0.01\n",
    "UPPER_LIMIT = 200\n",
    "LOWER_LIMIT = -100\n",
    "\n",
    "\n",
    "# Create PID \n",
    "pid = [PID() for x in range(2)]\n",
    "\n",
    "for x in range(2):\n",
    "    pid[x].sample_time = SAMPLE_TIME\n",
    "    pid[x].tunings = (KP, KI, KD)\n",
    "    pid[x].output_limit = (LOWER_LIMIT, UPPER_LIMIT)\n",
    "    pid[x].setpoint = 512\n",
    "    pid[x].auto_mode = False\n",
    "\n",
    "# Create handler objects\n",
    "portHandler = PortHandler(DEVICE_PORT)\n",
    "packetHandler = PacketHandler(PROTOCOL_VERSION)\n",
    "\n",
    "# Open port and set baudrate\n",
    "portHandler.openPort()\n",
    "portHandler.setBaudRate(BAUDRATE)\n",
    "\n",
    "\n",
    "# Enable Dynamixel\n",
    "dxl_comm_result, dxl_error = packetHandler.write1ByteTxRx(portHandler, DXL_ID_2, ADDR_MX_TORQUE_ENABLE, TORQUE_ENABLE)\n",
    "dxl_comm_result, dxl_error = packetHandler.write1ByteTxRx(portHandler, DXL_ID_3, ADDR_MX_TORQUE_ENABLE, TORQUE_ENABLE)\n",
    "\n",
    "\n"
   ]
  },
  {
   "cell_type": "code",
   "execution_count": 158,
   "metadata": {},
   "outputs": [],
   "source": [
    "# Limit speed\n",
    "#packetHandler.write4ByteTxOnly(portHandler, DXL_ID_2, ADDR_MX_MOVING_SPEED, 20)\n",
    "dxl_comm_result, dxl_error = packetHandler.write2ByteTxRx(portHandler, DXL_ID_2, ADDR_MX_MOVING_SPEED, 20)\n"
   ]
  },
  {
   "cell_type": "code",
   "execution_count": 159,
   "metadata": {},
   "outputs": [
    {
     "data": {
      "text/plain": [
       "20"
      ]
     },
     "execution_count": 159,
     "metadata": {},
     "output_type": "execute_result"
    }
   ],
   "source": [
    "speed, dxl_comm_result, dxl_error = packetHandler.read2ByteTxRx(portHandler, DXL_ID_2, ADDR_MX_MOVING_SPEED)\n",
    "speed"
   ]
  },
  {
   "cell_type": "code",
   "execution_count": 160,
   "metadata": {},
   "outputs": [],
   "source": [
    "# Set to vertical \n",
    "dxl_comm_result, dxl_error = packetHandler.write2ByteTxRx(portHandler, DXL_ID_2, ADDR_MX_GOAL_POSITION, 512)"
   ]
  },
  {
   "cell_type": "code",
   "execution_count": 164,
   "metadata": {},
   "outputs": [
    {
     "name": "stdout",
     "output_type": "stream",
     "text": [
      "511\n",
      "512\n"
     ]
    }
   ],
   "source": [
    "currentpos, dxl_comm_result, dxl_error = packetHandler.read2ByteTxRx(portHandler, DXL_ID_2, ADDR_MX_PRESENT_POSITION)\n",
    "print(currentpos)\n",
    "print(pid.setpoint)"
   ]
  },
  {
   "cell_type": "code",
   "execution_count": 165,
   "metadata": {},
   "outputs": [
    {
     "name": "stdout",
     "output_type": "stream",
     "text": [
      "519\n",
      "519\n",
      "519\n",
      "519\n"
     ]
    }
   ],
   "source": [
    "# Enable PID to ensure vertical\n",
    "pid.auto_mode = True\n",
    "\n",
    "# Get current speed \n",
    "speed, dxl_comm_result, dxl_error = packetHandler.read2ByteTxRx(portHandler, DXL_ID_2, ADDR_MX_PRESENT_SPEED)\n",
    "if speed < 2:\n",
    "    while True:\n",
    "        # Get current position\n",
    "        currentpos, dxl_comm_result, dxl_error = packetHandler.read2ByteTxRx(portHandler, DXL_ID_2, ADDR_MX_PRESENT_POSITION)\n",
    "        output = int(pid(currentpos)) + 512\n",
    "        print(output)\n",
    "    \n",
    "        # Output PID to motor\n",
    "        dxl_comm_result, dxl_error = packetHandler.write2ByteTxRx(portHandler, DXL_ID_2, ADDR_MX_GOAL_POSITION, output)\n",
    "    \n",
    "        \n",
    "        \n",
    "        if abs(currentpos - 512) < 1:\n",
    "            break"
   ]
  },
  {
   "cell_type": "code",
   "execution_count": 131,
   "metadata": {},
   "outputs": [
    {
     "data": {
      "text/plain": [
       "6566"
      ]
     },
     "execution_count": 131,
     "metadata": {},
     "output_type": "execute_result"
    }
   ],
   "source": [
    "output"
   ]
  },
  {
   "cell_type": "code",
   "execution_count": 147,
   "metadata": {},
   "outputs": [],
   "source": [
    "portHandler.closePort()"
   ]
  },
  {
   "cell_type": "code",
   "execution_count": null,
   "metadata": {},
   "outputs": [],
   "source": []
  }
 ],
 "metadata": {
  "kernelspec": {
   "display_name": "Python 2",
   "language": "python",
   "name": "python2"
  },
  "language_info": {
   "codemirror_mode": {
    "name": "ipython",
    "version": 2
   },
   "file_extension": ".py",
   "mimetype": "text/x-python",
   "name": "python",
   "nbconvert_exporter": "python",
   "pygments_lexer": "ipython2",
   "version": "2.7.12"
  }
 },
 "nbformat": 4,
 "nbformat_minor": 2
}
